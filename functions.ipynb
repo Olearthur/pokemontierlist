{
 "metadata": {
  "language_info": {
   "codemirror_mode": {
    "name": "ipython",
    "version": 3
   },
   "file_extension": ".py",
   "mimetype": "text/x-python",
   "name": "python",
   "nbconvert_exporter": "python",
   "pygments_lexer": "ipython3",
   "version": "3.8.6-final"
  },
  "orig_nbformat": 2,
  "kernelspec": {
   "name": "python38664bitbe609137ca5a4c0a8a604388f4f55b17",
   "display_name": "Python 3.8.6 64-bit",
   "language": "python"
  }
 },
 "nbformat": 4,
 "nbformat_minor": 2,
 "cells": [
  {
   "cell_type": "code",
   "execution_count": 45,
   "metadata": {},
   "outputs": [],
   "source": [
    "import numpy as np \n",
    "import pandas as pd \n",
    "from random import randrange"
   ]
  },
  {
   "cell_type": "code",
   "execution_count": 35,
   "metadata": {},
   "outputs": [],
   "source": [
    "df = df.drop(df.columns[0],axis=1)"
   ]
  },
  {
   "cell_type": "code",
   "execution_count": 37,
   "metadata": {},
   "outputs": [],
   "source": [
    "df.head()\n",
    "df.to_csv(\"resources/starter9.csv\", index=False)"
   ]
  },
  {
   "cell_type": "code",
   "execution_count": 60,
   "metadata": {},
   "outputs": [],
   "source": [
    "# This function sorts a given csv-file by either votes or score\n",
    "def sort_csv(csv = \"resources/starter9.csv\", type = \"Votes\"):\n",
    "    df = pd.read_csv(csv)       # Read the specified csv file\n",
    "    if type == \"Votes\":         # If sorting by votes, sort in ascending order\n",
    "        df = df.sort_values(type,axis=0,ascending=True,kind='quicksort')\n",
    "    elif type == \"Score\":       # If sorting by score, sort in descending order\n",
    "        df = df.sort_values(type,axis=0,ascending=False,kind='quicksort')\n",
    "    else:                       # Error message\n",
    "        print(\"Type in sortCsv incorrect.\")\n",
    "    df.to_csv(csv,index=False)  # Rewrite the csv file, now sorted\n",
    "    return"
   ]
  },
  {
   "cell_type": "code",
   "execution_count": 87,
   "metadata": {},
   "outputs": [],
   "source": [
    "# This function generates a pair of pokemon id's, prioritizing pokemon with low votes\n",
    "def get_pair(csv = \"resources/starter9.csv\"):\n",
    "    df = pd.read_csv(csv)\n",
    "    sort_csv(csv, \"Votes\")          # Prioritize pokemon with less votes by sorting\n",
    "    limit = int(df.shape[0]*0.2)    # Find the highest index to choose from for voting\n",
    "    if (limit < 5): limit = 5       # Minimum value for the limit for safety purposes\n",
    "    a = randrange(limit)            # Generate two different random integers within range of limit\n",
    "    b = a\n",
    "    while(b == a):\n",
    "        b = randrange(limit)   \n",
    "    \n",
    "    pokemon_a = df.iloc[a]['Id']    # Determine the Id numbers for the two pokemon\n",
    "    pokemon_b = df.iloc[b]['Id']\n",
    "\n",
    "    return pokemon_a, pokemon_b\n",
    "    "
   ]
  },
  {
   "cell_type": "code",
   "execution_count": 94,
   "metadata": {},
   "outputs": [
    {
     "output_type": "execute_result",
     "data": {
      "text/plain": [
       "(6, 0)"
      ]
     },
     "metadata": {},
     "execution_count": 94
    }
   ],
   "source": [
    "get_pair()"
   ]
  },
  {
   "cell_type": "code",
   "execution_count": null,
   "metadata": {},
   "outputs": [],
   "source": []
  }
 ]
}